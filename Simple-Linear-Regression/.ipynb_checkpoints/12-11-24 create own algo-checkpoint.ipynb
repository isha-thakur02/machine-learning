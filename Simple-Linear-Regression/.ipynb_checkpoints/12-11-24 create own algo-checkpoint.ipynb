{
 "cells": [
  {
   "cell_type": "code",
   "execution_count": 13,
   "id": "c37e7c2a-2aa3-48f3-8c1f-68ff04505d29",
   "metadata": {},
   "outputs": [],
   "source": [
    "import numpy as np\n",
    "import pandas as pd"
   ]
  },
  {
   "cell_type": "code",
   "execution_count": 14,
   "id": "b81c1803-c188-434b-ada0-661212236321",
   "metadata": {},
   "outputs": [],
   "source": [
    "data = pd.read_csv(\"placement.csv\")"
   ]
  },
  {
   "cell_type": "code",
   "execution_count": 24,
   "id": "b5306b34-c611-4661-b93b-addee42dc1a0",
   "metadata": {},
   "outputs": [],
   "source": [
    "x = data.iloc[:,0:1].values"
   ]
  },
  {
   "cell_type": "code",
   "execution_count": 25,
   "id": "df39a3ce-63b5-4938-bde8-4a06ab4ed633",
   "metadata": {},
   "outputs": [],
   "source": [
    "y = data.iloc[:,-1:].values"
   ]
  },
  {
   "cell_type": "code",
   "execution_count": 17,
   "id": "ae8f98b4-0716-4482-b620-5d25407ba7cf",
   "metadata": {},
   "outputs": [],
   "source": [
    "from sklearn.model_selection import train_test_split\n",
    "x_train, x_test, y_train, y_test = train_test_split(x,y, test_size = 0.2, random_state = 2 )"
   ]
  },
  {
   "cell_type": "code",
   "execution_count": 18,
   "id": "60e41d7c-a576-4056-9d78-c340f6fa03d6",
   "metadata": {},
   "outputs": [],
   "source": [
    "class lr:\n",
    "    def __init__(self):\n",
    "        self.m = None\n",
    "        self.b = None\n",
    "\n",
    "    \n",
    "    def our_fit(self, x_train, y_train):\n",
    "        x_mean = np.mean(x_train)\n",
    "        y_mean = np.mean(y_train)\n",
    "   \n",
    "        num = 0\n",
    "        dem = 0\n",
    "        for i in range(x_train.shape[0]):\n",
    "            num = num + ((y_train[i] - y_mean) * (x_train[i] - x_mean))\n",
    "            dem = dem + ((x_train[i] - x_mean) * (x_train[i] - x_mean))\n",
    "        self.m = num/dem\n",
    "        self.b = y_train.mean() - (self.m * x_train.mean())\n",
    "        print(self.m)\n",
    "        print(self.b)\n",
    "\n",
    "\n",
    "    def our_predict(self, x_test):\n",
    "        prediction = self.m * x_test + self.b\n",
    "        print(prediction)\n",
    "        "
   ]
  },
  {
   "cell_type": "code",
   "execution_count": 19,
   "id": "0f683334-ddf1-4125-b7ce-b2fe695cc40b",
   "metadata": {},
   "outputs": [],
   "source": [
    "lrslr = lr()"
   ]
  },
  {
   "cell_type": "code",
   "execution_count": 20,
   "id": "3b5377a8-4c1e-4116-bc22-f9d031fbd04c",
   "metadata": {},
   "outputs": [
    {
     "name": "stdout",
     "output_type": "stream",
     "text": [
      "[0.55795197]\n",
      "[-0.89611192]\n"
     ]
    }
   ],
   "source": [
    "lrslr.our_fit(x_train, y_train)"
   ]
  },
  {
   "cell_type": "code",
   "execution_count": 23,
   "id": "9da0fca3-e139-4857-8806-61605509f58d",
   "metadata": {},
   "outputs": [
    {
     "name": "stdout",
     "output_type": "stream",
     "text": [
      "[2.94817717]\n"
     ]
    }
   ],
   "source": [
    "lrslr. our_predict(6.89)"
   ]
  },
  {
   "cell_type": "code",
   "execution_count": null,
   "id": "73fb17bb-8358-43f2-961a-93ba83ae9862",
   "metadata": {},
   "outputs": [],
   "source": []
  }
 ],
 "metadata": {
  "kernelspec": {
   "display_name": "Python 3 (ipykernel)",
   "language": "python",
   "name": "python3"
  },
  "language_info": {
   "codemirror_mode": {
    "name": "ipython",
    "version": 3
   },
   "file_extension": ".py",
   "mimetype": "text/x-python",
   "name": "python",
   "nbconvert_exporter": "python",
   "pygments_lexer": "ipython3",
   "version": "3.11.7"
  }
 },
 "nbformat": 4,
 "nbformat_minor": 5
}
